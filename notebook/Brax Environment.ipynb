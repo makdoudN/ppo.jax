{
 "cells": [
  {
   "cell_type": "code",
   "execution_count": 1,
   "id": "ceab078d-63b8-4eac-9338-43bb67aedcfe",
   "metadata": {},
   "outputs": [],
   "source": [
    "\n",
    "from IPython.display import HTML, IFrame, display, clear_output \n",
    "\n",
    "import os \n",
    "import jax\n",
    "import tax\n",
    "import brax\n",
    "import jax.numpy as jnp\n",
    "import functools\n",
    "import matplotlib as mpl\n",
    "import matplotlib.pyplot as plt\n",
    "\n",
    "from brax import envs\n",
    "from brax.training import ppo, sac\n",
    "from brax.io import html\n",
    "\n",
    "tax.set_platform('cpu')\n",
    "\n",
    "def visualize(sys, qps):\n",
    "  \"\"\"Renders a 3D visualization of the environment.\"\"\"\n",
    "  return HTML(html.render(sys, qps))"
   ]
  },
  {
   "cell_type": "markdown",
   "id": "bb949702-7fb7-4a57-af08-54c028b7d109",
   "metadata": {},
   "source": [
    "# `Visualization of the Environment`"
   ]
  },
  {
   "cell_type": "code",
   "execution_count": null,
   "id": "065e6033-4126-474e-97c6-17a2e7bfa11b",
   "metadata": {},
   "outputs": [],
   "source": [
    "\n"
   ]
  },
  {
   "cell_type": "code",
   "execution_count": 2,
   "id": "138cad21-7b10-47a5-bfe2-052fd41a69ab",
   "metadata": {},
   "outputs": [],
   "source": [
    "# Test basic random control of the agent.\n",
    "from jax import jit \n",
    "from jax import vmap\n",
    "from brax.envs.ant import Ant\n",
    "from brax.envs.wrappers import GymWrapper"
   ]
  },
  {
   "cell_type": "code",
   "execution_count": 3,
   "id": "615cb71a-0e69-4d54-9ee6-63f4efbcfbfd",
   "metadata": {},
   "outputs": [],
   "source": [
    "rng = jax.random.PRNGKey(42)\n",
    "env = Ant()\n",
    "env.step = jit(env.step)\n",
    "env.reset = jit(env.reset)"
   ]
  },
  {
   "cell_type": "code",
   "execution_count": 4,
   "id": "90895484-cf72-447c-ae63-d8cc63777d33",
   "metadata": {},
   "outputs": [],
   "source": [
    "state = env.reset(rng)"
   ]
  },
  {
   "cell_type": "code",
   "execution_count": 8,
   "id": "6548449b-418e-4c66-99bb-cbd47dce8dbf",
   "metadata": {},
   "outputs": [],
   "source": [
    "@jit\n",
    "def step(carry, xs):\n",
    "    rng, state = carry\n",
    "    rng, rng_action = jax.random.split(rng)\n",
    "    \n",
    "    action = jax.random.uniform(rng_action, shape=(env.action_size,), \n",
    "                               minval=-1.0, maxval=1.0)\n",
    "    new_state = env.step(state, action)    \n",
    "    carry = [rng, new_state]\n",
    "    info = {\n",
    "        'reward': new_state.reward,\n",
    "        'observation': state.obs,\n",
    "        'observation_next': new_state.obs,\n",
    "        'terminal': 1.0 - new_state.done,\n",
    "        'steps': new_state.steps,\n",
    "    }\n",
    "    return carry, info\n",
    "\n",
    "@jit\n",
    "def episode(rng):\n",
    "    state = env.reset(rng)\n",
    "    init, xs = [rng, state], jnp.arange(1000)\n",
    "    _, info = jax.lax.scan(step, init, xs)\n",
    "    return info\n",
    "\n",
    "vepisode = jit(vmap(episode))"
   ]
  },
  {
   "cell_type": "code",
   "execution_count": 8,
   "id": "48f4ca2d-b8c3-4870-886e-76751870600f",
   "metadata": {},
   "outputs": [
    {
     "name": "stdout",
     "output_type": "stream",
     "text": [
      "CPU times: user 21.5 s, sys: 23.9 ms, total: 21.6 s\n",
      "Wall time: 22 s\n"
     ]
    }
   ],
   "source": [
    "%%time\n",
    "init, xs = [rng, state], jnp.arange(10)\n",
    "_, info = jax.lax.scan(step, init, xs)"
   ]
  },
  {
   "cell_type": "code",
   "execution_count": 7,
   "id": "a21beaf8-5c34-471f-ac6b-bd5d98f5b560",
   "metadata": {},
   "outputs": [
    {
     "name": "stdout",
     "output_type": "stream",
     "text": [
      "CPU times: user 23.7 s, sys: 63 ms, total: 23.7 s\n",
      "Wall time: 23.7 s\n"
     ]
    }
   ],
   "source": [
    "%%time\n",
    "info = episode(rng)"
   ]
  },
  {
   "cell_type": "code",
   "execution_count": null,
   "id": "0101c549-f715-43b0-ad87-48bc98ece057",
   "metadata": {},
   "outputs": [],
   "source": []
  },
  {
   "cell_type": "code",
   "execution_count": 26,
   "id": "80339f03-fc8e-4b47-a505-fdc9ec94e67f",
   "metadata": {},
   "outputs": [
    {
     "name": "stdout",
     "output_type": "stream",
     "text": [
      "[[0.5133401  1.         0.         ... 0.         0.         0.        ]\n",
      " [0.501194   0.99731606 0.00557384 ... 0.         0.         0.        ]\n",
      " [0.43697065 0.9974769  0.02101452 ... 0.         0.         0.        ]\n",
      " ...\n",
      " [0.5251519  0.9531934  0.05337911 ... 0.         0.         0.        ]\n",
      " [0.511115   0.9457168  0.06538638 ... 0.         0.         0.        ]\n",
      " [0.47696105 0.9131294  0.01408968 ... 0.         0.         0.        ]]\n",
      "CPU times: user 6.58 s, sys: 96.1 ms, total: 6.67 s\n",
      "Wall time: 6.57 s\n"
     ]
    }
   ],
   "source": [
    "%%time\n",
    "rng, subrng = jax.random.split(rng)\n",
    "brng = jax.random.split(subrng, 256)\n",
    "binfo = vepisode(brng)\n",
    "print(binfo['observation'][0])"
   ]
  },
  {
   "cell_type": "code",
   "execution_count": 27,
   "id": "5de2dd35-0459-4bca-8720-c19a91be8886",
   "metadata": {},
   "outputs": [
    {
     "data": {
      "text/plain": [
       "(256, 1000, 87)"
      ]
     },
     "execution_count": 27,
     "metadata": {},
     "output_type": "execute_result"
    }
   ],
   "source": [
    "binfo['observation'].shape"
   ]
  },
  {
   "cell_type": "code",
   "execution_count": null,
   "id": "6593dafc-55af-4f67-b835-ad2d37db4ea3",
   "metadata": {},
   "outputs": [],
   "source": []
  },
  {
   "cell_type": "code",
   "execution_count": 5,
   "id": "6842794e-538a-4d6f-bba1-af24beb5d5b4",
   "metadata": {},
   "outputs": [
    {
     "data": {
      "text/plain": [
       "8"
      ]
     },
     "execution_count": 5,
     "metadata": {},
     "output_type": "execute_result"
    }
   ],
   "source": [
    "env.action_size"
   ]
  },
  {
   "cell_type": "code",
   "execution_count": 6,
   "id": "d0ae6656-62ad-4fe3-b653-456f10ecfc99",
   "metadata": {},
   "outputs": [
    {
     "data": {
      "text/plain": [
       "87"
      ]
     },
     "execution_count": 6,
     "metadata": {},
     "output_type": "execute_result"
    }
   ],
   "source": [
    "env.observation_size"
   ]
  },
  {
   "cell_type": "code",
   "execution_count": null,
   "id": "5254537b-284b-4312-ae2c-2826d59ca780",
   "metadata": {},
   "outputs": [],
   "source": []
  }
 ],
 "metadata": {
  "kernelspec": {
   "display_name": "Python 3",
   "language": "python",
   "name": "python3"
  },
  "language_info": {
   "codemirror_mode": {
    "name": "ipython",
    "version": 3
   },
   "file_extension": ".py",
   "mimetype": "text/x-python",
   "name": "python",
   "nbconvert_exporter": "python",
   "pygments_lexer": "ipython3",
   "version": "3.8.10"
  }
 },
 "nbformat": 4,
 "nbformat_minor": 5
}
