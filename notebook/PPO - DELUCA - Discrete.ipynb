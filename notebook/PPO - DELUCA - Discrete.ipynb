{
 "cells": [
  {
   "cell_type": "code",
   "execution_count": 1,
   "id": "9f8e2281-7982-4cca-8ec9-2807fbc00e92",
   "metadata": {},
   "outputs": [],
   "source": [
    "import gym\n",
    "import jax\n",
    "import tax\n",
    "import tree\n",
    "import tqdm\n",
    "import optax\n",
    "import collections\n",
    "import jax.numpy as jnp\n",
    "import numpy as np\n",
    "import haiku as hk\n",
    "\n",
    "from ppo.ppo import Data\n",
    "from ppo.ppo import State\n",
    "from ppo.ppo import Batch\n",
    "from ppo.ppo import update_ppo\n",
    "from jax import jit\n",
    "from jax import vmap\n",
    "from gym.vector import AsyncVectorEnv\n",
    "from functools import partial\n",
    "from common import gym_evaluation\n",
    "from common import gym_interaction\n",
    "\n",
    "tax.set_platform('cpu')\n",
    "\n",
    "\n",
    "from mbrl.envs.oracle._cartpole import env_params\n",
    "from mbrl.envs.oracle._cartpole import step_fn\n",
    "from mbrl.envs.oracle._cartpole import reset_fn\n",
    "from mbrl.envs.oracle._cartpole import reward_fn\n",
    "from mbrl.envs.oracle._cartpole import dynamics_fn\n",
    "from mbrl.envs.oracle._cartpole import render\n",
    "\n",
    "rng = jax.random.PRNGKey(42)\n",
    "Environment = collections.namedtuple('Environment', ['step', 'reset'])\n",
    "\n",
    "step             = jit(partial(step_fn, env_params=env_params))\n",
    "reset            = jit(partial(reset_fn, env_params=env_params))\n",
    "dynamics         = jit(partial(dynamics_fn, env_params=env_params))\n",
    "env              = Environment(step=step, reset=reset)\n",
    "action_size      = 2\n",
    "observation_size = env_params['state_size']"
   ]
  },
  {
   "cell_type": "code",
   "execution_count": 2,
   "id": "1e3f0d14-3288-4776-b837-0fc457da9ee9",
   "metadata": {},
   "outputs": [],
   "source": [
    "rng, rng_reset = jax.random.split(rng, 2)\n",
    "env_state, observation  = env.reset(rng_reset)\n",
    "env_state_next, observation_next, reward, done, info = env.step(env_state, 1)"
   ]
  },
  {
   "cell_type": "code",
   "execution_count": 3,
   "id": "ff7be392-82d4-470e-8141-23df92cb9e9c",
   "metadata": {},
   "outputs": [],
   "source": [
    "\n",
    "dummy_action      = jnp.zeros((action_size,))\n",
    "dummy_observation = jnp.zeros((observation_size,))\n",
    "\n",
    "policy_def = lambda x: tax.mlp_categorical(action_size)(x)\n",
    "policy_def = hk.transform(policy_def)\n",
    "policy_def = hk.without_apply_rng(policy_def)\n",
    "policy_opt = getattr(optax, 'adabelief')(learning_rate=1e-4)\n",
    "value_def  = lambda x: tax.mlp_deterministic(1)(x).squeeze(-1)\n",
    "value_def  = hk.transform(value_def)\n",
    "value_def  = hk.without_apply_rng(value_def)\n",
    "value_opt  = getattr(optax, 'adabelief')(learning_rate=1e-4)\n",
    "\n",
    "rng, rng_policy, rng_value = jax.random.split(rng, 3)\n",
    "value_params               = value_def.init(rng_policy, dummy_observation)\n",
    "value_opt_state            = value_opt.init(value_params)\n",
    "policy_params              = policy_def.init(rng_policy, dummy_observation)\n",
    "policy_opt_state           = policy_opt.init(policy_params)\n",
    "\n",
    "params    = {'policy': policy_params, 'value': value_params}\n",
    "opt_state = {'policy': policy_opt_state, 'value': value_opt_state}\n",
    "state     = State(params=params, opt_state=opt_state, key=rng)\n",
    "\n",
    "policy_apply = jit(policy_def.apply)\n",
    "value_apply  = jit(value_def.apply) \n",
    "\n",
    "loss_kwargs = {    \n",
    "    'policy_apply': policy_apply,\n",
    "    'value_apply': value_apply,\n",
    "}\n",
    "\n",
    "process_kwargs = {\n",
    "    'policy_apply': policy_apply,\n",
    "    'value_apply': value_apply,\n",
    "}\n",
    "\n",
    "loss_kwargs = hk.data_structures.to_immutable_dict(loss_kwargs)\n",
    "process_kwargs = hk.data_structures.to_immutable_dict(process_kwargs)\n",
    "update = partial(update_ppo,     \n",
    "    policy_opt=policy_opt.update, \n",
    "    value_opt=value_opt.update, \n",
    "    loss_kwargs=loss_kwargs, \n",
    "    process_data_kwargs=process_kwargs, \n",
    "    max_grad_norm=-1.0)\n",
    "\n",
    "update = jit(update)\n",
    "\n"
   ]
  },
  {
   "cell_type": "code",
   "execution_count": 4,
   "id": "facbd7d5-f6a7-4864-a0ef-c0ebaaebfb8d",
   "metadata": {},
   "outputs": [],
   "source": [
    "\n",
    "@jit\n",
    "def _onestep(carry, xs):\n",
    "    p, rng, (env_state, observation) = carry\n",
    "    rng, rng_action, rng_reset = jax.random.split(rng, 3)\n",
    "    action = policy_apply(p, observation).sample(seed=rng_action)\n",
    "\n",
    "    state_next, observation_next, reward, done, info = \\\n",
    "        env.step(env_state, action)\n",
    "\n",
    "    state_next, observation_next  = jax.lax.cond(\n",
    "        done,\n",
    "        lambda rng: env.reset(rng),\n",
    "        lambda rng: (state_next, observation_next),\n",
    "        operand=rng)\n",
    "\n",
    "    info = {\n",
    "        'observation': observation,\n",
    "        'observation_next': observation_next,\n",
    "        'env_state': state,\n",
    "        'env_state_next': state_next,\n",
    "        'rng': rng,\n",
    "        'reward': reward,\n",
    "        'action': action,\n",
    "        'terminal':  1. - done,\n",
    "    }\n",
    "    \n",
    "    rng, subrng = jax.random.split(rng)\n",
    "    carry = p, rng, (state_next, observation_next)\n",
    "    return carry, info\n",
    "\n",
    "\n",
    "carry = (state.params['policy'], rng, (env_state, observation))\n",
    "xs = jnp.arange(10)\n",
    "_, data = jax.lax.scan(_onestep, carry, xs)\n",
    "\n",
    "\n",
    "@jit\n",
    "def evaluation(rng, p):\n",
    "    rng, rng_reset = jax.random.split(rng, 2)\n",
    "    env_state, observation = env.reset(rng_reset)\n",
    "    carry = (p, rng, (env_state, observation))\n",
    "    xs = jnp.arange(200) # HARDCODE\n",
    "    carry, data = jax.lax.scan(_onestep, carry, xs)\n",
    "    return data\n",
    "\n",
    "@jit\n",
    "def interaction_step(rng, p, env_state, observation):\n",
    "    carry = (p, rng, (env_state, observation))\n",
    "    xs = jnp.arange(10) # HARDCODE\n",
    "    carry, data = jax.lax.scan(_onestep, carry, xs)\n",
    "    (_, _, (state_next, observation_next)) = carry\n",
    "    data['last_observation'] = observation_next\n",
    "    return (state_next, observation_next), data\n",
    "\n",
    "# Compilation\n",
    "_ = interaction_step(rng, state.params['policy'], env_state, observation)\n",
    "data = evaluation(rng, state.params['policy'])"
   ]
  },
  {
   "cell_type": "code",
   "execution_count": 5,
   "id": "52c90903-3e22-49bc-920b-0b39af03f4a6",
   "metadata": {},
   "outputs": [],
   "source": [
    "vinteraction = vmap(interaction_step, (0, None, 0, 0))\n",
    "\n",
    "vrng = jax.random.split(rng, 16)\n",
    "venv_state, vobservation = vmap(env.reset)(vrng)\n",
    "_, data = vinteraction(vrng, state.params['policy'], venv_state, vobservation)"
   ]
  },
  {
   "cell_type": "code",
   "execution_count": 6,
   "id": "853f708e-9322-4434-8e35-908f9e87071b",
   "metadata": {},
   "outputs": [],
   "source": [
    "@jit\n",
    "def epoch(state, venv_state, vobservation):\n",
    "    (venv_state, vobservation), data = vinteraction(\n",
    "        vrng, state.params['policy'], venv_state, vobservation)\n",
    "    \n",
    "    d = {k: v for k, v in data.items() \\\n",
    "         if k in ['last_observation', 'observation', \n",
    "                  'observation_next', 'reward', \n",
    "                  'terminal', 'action']}\n",
    "    \n",
    "    dd = {}\n",
    "    dd['last_observation'] = d['last_observation']\n",
    "    dd['observation']      = d['observation'].transpose(1, 0, 2)\n",
    "    dd['observation_next'] = d['observation_next'].transpose(1, 0, 2)\n",
    "    dd['reward']           = d['reward'].transpose(1, 0)\n",
    "    dd['terminal']         = d['terminal'].transpose(1, 0)\n",
    "    dd['action']           = d['action'].transpose(1, 0)\n",
    "    \n",
    "    state, update_info = update(state, dd)\n",
    "    \n",
    "    return state, (venv_state, vobservation), update_info"
   ]
  },
  {
   "cell_type": "code",
   "execution_count": 7,
   "id": "c691b7e1-2f05-445f-8717-6389282be2e0",
   "metadata": {},
   "outputs": [
    {
     "data": {
      "application/vnd.jupyter.widget-view+json": {
       "model_id": "681104b367a2406aa8f0e23551fa5d7e",
       "version_major": 2,
       "version_minor": 0
      },
      "text/plain": [
       "  0%|          | 0/100 [00:00<?, ?it/s]"
      ]
     },
     "metadata": {},
     "output_type": "display_data"
    },
    {
     "data": {
      "application/vnd.jupyter.widget-view+json": {
       "model_id": "1d30c0bf2b9f4a3ba1be53f804ddb736",
       "version_major": 2,
       "version_minor": 0
      },
      "text/plain": [
       "  0%|          | 0/100 [00:00<?, ?it/s]"
      ]
     },
     "metadata": {},
     "output_type": "display_data"
    },
    {
     "name": "stdout",
     "output_type": "stream",
     "text": [
      "65.0\n"
     ]
    },
    {
     "data": {
      "application/vnd.jupyter.widget-view+json": {
       "model_id": "9eb74724819e42cdb2d27d943aefa3d3",
       "version_major": 2,
       "version_minor": 0
      },
      "text/plain": [
       "  0%|          | 0/100 [00:00<?, ?it/s]"
      ]
     },
     "metadata": {},
     "output_type": "display_data"
    },
    {
     "name": "stdout",
     "output_type": "stream",
     "text": [
      "133.0\n"
     ]
    },
    {
     "data": {
      "application/vnd.jupyter.widget-view+json": {
       "model_id": "2bbc577518fc4352844ef3a06a86d989",
       "version_major": 2,
       "version_minor": 0
      },
      "text/plain": [
       "  0%|          | 0/100 [00:00<?, ?it/s]"
      ]
     },
     "metadata": {},
     "output_type": "display_data"
    },
    {
     "name": "stdout",
     "output_type": "stream",
     "text": [
      "134.0\n"
     ]
    },
    {
     "data": {
      "application/vnd.jupyter.widget-view+json": {
       "model_id": "e855382e16a440ecb9e5967cc5b789b1",
       "version_major": 2,
       "version_minor": 0
      },
      "text/plain": [
       "  0%|          | 0/100 [00:00<?, ?it/s]"
      ]
     },
     "metadata": {},
     "output_type": "display_data"
    },
    {
     "name": "stdout",
     "output_type": "stream",
     "text": [
      "200.0\n"
     ]
    },
    {
     "data": {
      "application/vnd.jupyter.widget-view+json": {
       "model_id": "fd287c9c6511489d890710659361855a",
       "version_major": 2,
       "version_minor": 0
      },
      "text/plain": [
       "  0%|          | 0/100 [00:00<?, ?it/s]"
      ]
     },
     "metadata": {},
     "output_type": "display_data"
    },
    {
     "name": "stdout",
     "output_type": "stream",
     "text": [
      "200.0\n"
     ]
    },
    {
     "data": {
      "application/vnd.jupyter.widget-view+json": {
       "model_id": "0b7b9c43676741ed803af7ce9537e4dd",
       "version_major": 2,
       "version_minor": 0
      },
      "text/plain": [
       "  0%|          | 0/100 [00:00<?, ?it/s]"
      ]
     },
     "metadata": {},
     "output_type": "display_data"
    },
    {
     "name": "stdout",
     "output_type": "stream",
     "text": [
      "200.0\n"
     ]
    },
    {
     "data": {
      "application/vnd.jupyter.widget-view+json": {
       "model_id": "8e9a225882fa46c1be03d3c37cfd229b",
       "version_major": 2,
       "version_minor": 0
      },
      "text/plain": [
       "  0%|          | 0/100 [00:00<?, ?it/s]"
      ]
     },
     "metadata": {},
     "output_type": "display_data"
    },
    {
     "name": "stdout",
     "output_type": "stream",
     "text": [
      "200.0\n"
     ]
    },
    {
     "data": {
      "application/vnd.jupyter.widget-view+json": {
       "model_id": "19c319d654b944b4b3fed85530494a25",
       "version_major": 2,
       "version_minor": 0
      },
      "text/plain": [
       "  0%|          | 0/100 [00:00<?, ?it/s]"
      ]
     },
     "metadata": {},
     "output_type": "display_data"
    },
    {
     "name": "stdout",
     "output_type": "stream",
     "text": [
      "200.0\n"
     ]
    },
    {
     "data": {
      "application/vnd.jupyter.widget-view+json": {
       "model_id": "8d930ead1ff3461a80ff1a867f4db670",
       "version_major": 2,
       "version_minor": 0
      },
      "text/plain": [
       "  0%|          | 0/100 [00:00<?, ?it/s]"
      ]
     },
     "metadata": {},
     "output_type": "display_data"
    },
    {
     "name": "stdout",
     "output_type": "stream",
     "text": [
      "200.0\n"
     ]
    },
    {
     "data": {
      "application/vnd.jupyter.widget-view+json": {
       "model_id": "4f691f04e41249239f6085846426a259",
       "version_major": 2,
       "version_minor": 0
      },
      "text/plain": [
       "  0%|          | 0/100 [00:00<?, ?it/s]"
      ]
     },
     "metadata": {},
     "output_type": "display_data"
    },
    {
     "name": "stdout",
     "output_type": "stream",
     "text": [
      "200.0\n"
     ]
    },
    {
     "data": {
      "application/vnd.jupyter.widget-view+json": {
       "model_id": "40f1b2079df543228979fd934b5482a0",
       "version_major": 2,
       "version_minor": 0
      },
      "text/plain": [
       "  0%|          | 0/100 [00:00<?, ?it/s]"
      ]
     },
     "metadata": {},
     "output_type": "display_data"
    },
    {
     "name": "stdout",
     "output_type": "stream",
     "text": [
      "13.0\n"
     ]
    },
    {
     "data": {
      "application/vnd.jupyter.widget-view+json": {
       "model_id": "b6d7de34cc3d48e58bfa7fff6272eaf0",
       "version_major": 2,
       "version_minor": 0
      },
      "text/plain": [
       "  0%|          | 0/100 [00:00<?, ?it/s]"
      ]
     },
     "metadata": {},
     "output_type": "display_data"
    },
    {
     "name": "stdout",
     "output_type": "stream",
     "text": [
      "7.0\n"
     ]
    },
    {
     "data": {
      "application/vnd.jupyter.widget-view+json": {
       "model_id": "dcebf9f7cfbe4b3a9a6e6b0206d7f280",
       "version_major": 2,
       "version_minor": 0
      },
      "text/plain": [
       "  0%|          | 0/100 [00:00<?, ?it/s]"
      ]
     },
     "metadata": {},
     "output_type": "display_data"
    },
    {
     "ename": "KeyboardInterrupt",
     "evalue": "",
     "output_type": "error",
     "traceback": [
      "\u001b[0;31m---------------------------------------------------------------------------\u001b[0m",
      "\u001b[0;31mKeyboardInterrupt\u001b[0m                         Traceback (most recent call last)",
      "\u001b[0;32m<ipython-input-7-0fb07c551251>\u001b[0m in \u001b[0;36m<module>\u001b[0;34m\u001b[0m\n\u001b[1;32m      1\u001b[0m \u001b[0;32mfor\u001b[0m \u001b[0m_\u001b[0m \u001b[0;32min\u001b[0m \u001b[0mtqdm\u001b[0m\u001b[0;34m.\u001b[0m\u001b[0mnotebook\u001b[0m\u001b[0;34m.\u001b[0m\u001b[0mtrange\u001b[0m\u001b[0;34m(\u001b[0m\u001b[0;36m100\u001b[0m\u001b[0;34m)\u001b[0m\u001b[0;34m:\u001b[0m\u001b[0;34m\u001b[0m\u001b[0;34m\u001b[0m\u001b[0m\n\u001b[1;32m      2\u001b[0m     \u001b[0;32mfor\u001b[0m \u001b[0m_\u001b[0m \u001b[0;32min\u001b[0m \u001b[0mtqdm\u001b[0m\u001b[0;34m.\u001b[0m\u001b[0mnotebook\u001b[0m\u001b[0;34m.\u001b[0m\u001b[0mtrange\u001b[0m\u001b[0;34m(\u001b[0m\u001b[0;36m100\u001b[0m\u001b[0;34m)\u001b[0m\u001b[0;34m:\u001b[0m\u001b[0;34m\u001b[0m\u001b[0;34m\u001b[0m\u001b[0m\n\u001b[0;32m----> 3\u001b[0;31m         \u001b[0mstate\u001b[0m\u001b[0;34m,\u001b[0m \u001b[0;34m(\u001b[0m\u001b[0mvenv_state\u001b[0m\u001b[0;34m,\u001b[0m \u001b[0mvobservation\u001b[0m\u001b[0;34m)\u001b[0m\u001b[0;34m,\u001b[0m \u001b[0minfo\u001b[0m \u001b[0;34m=\u001b[0m \u001b[0mepoch\u001b[0m\u001b[0;34m(\u001b[0m\u001b[0mstate\u001b[0m\u001b[0;34m,\u001b[0m \u001b[0mvenv_state\u001b[0m\u001b[0;34m,\u001b[0m \u001b[0mvobservation\u001b[0m\u001b[0;34m)\u001b[0m\u001b[0;34m\u001b[0m\u001b[0;34m\u001b[0m\u001b[0m\n\u001b[0m\u001b[1;32m      4\u001b[0m \u001b[0;34m\u001b[0m\u001b[0m\n\u001b[1;32m      5\u001b[0m     \u001b[0mdata\u001b[0m \u001b[0;34m=\u001b[0m \u001b[0mevaluation\u001b[0m\u001b[0;34m(\u001b[0m\u001b[0mrng\u001b[0m\u001b[0;34m,\u001b[0m \u001b[0mstate\u001b[0m\u001b[0;34m.\u001b[0m\u001b[0mparams\u001b[0m\u001b[0;34m[\u001b[0m\u001b[0;34m'policy'\u001b[0m\u001b[0;34m]\u001b[0m\u001b[0;34m)\u001b[0m\u001b[0;34m\u001b[0m\u001b[0;34m\u001b[0m\u001b[0m\n",
      "\u001b[0;32m~/miniconda3/envs/lab/lib/python3.8/site-packages/haiku/_src/data_structures.py\u001b[0m in \u001b[0;36m<lambda>\u001b[0;34m(treedef, leaves)\u001b[0m\n\u001b[1;32m    273\u001b[0m     \u001b[0mFlatMap\u001b[0m\u001b[0;34m,\u001b[0m\u001b[0;34m\u001b[0m\u001b[0;34m\u001b[0m\u001b[0m\n\u001b[1;32m    274\u001b[0m     \u001b[0;32mlambda\u001b[0m \u001b[0ms\u001b[0m\u001b[0;34m:\u001b[0m \u001b[0;34m(\u001b[0m\u001b[0ms\u001b[0m\u001b[0;34m.\u001b[0m\u001b[0m_leaves\u001b[0m\u001b[0;34m,\u001b[0m \u001b[0ms\u001b[0m\u001b[0;34m.\u001b[0m\u001b[0m_structure\u001b[0m\u001b[0;34m)\u001b[0m\u001b[0;34m,\u001b[0m  \u001b[0;31m# pylint: disable=protected-access\u001b[0m\u001b[0;34m\u001b[0m\u001b[0;34m\u001b[0m\u001b[0m\n\u001b[0;32m--> 275\u001b[0;31m     lambda treedef, leaves: FlatMap(FlatComponents(leaves, treedef)))\n\u001b[0m\u001b[1;32m    276\u001b[0m \u001b[0;34m\u001b[0m\u001b[0m\n\u001b[1;32m    277\u001b[0m \u001b[0;34m\u001b[0m\u001b[0m\n",
      "\u001b[0;31mKeyboardInterrupt\u001b[0m: "
     ]
    }
   ],
   "source": [
    "for _ in tqdm.notebook.trange(100):\n",
    "    for _ in tqdm.notebook.trange(100):\n",
    "        state, (venv_state, vobservation), info = epoch(state, venv_state, vobservation)\n",
    "\n",
    "    data = evaluation(rng, state.params['policy'])\n",
    "    t = jnp.where(data['terminal'] == 0.)\n",
    "    if len(t[0]) == 0:\n",
    "        score = sum(data['reward'])\n",
    "    else:\n",
    "        score = sum(data['reward'][:t[0][0]])\n",
    "    print(score)"
   ]
  },
  {
   "cell_type": "code",
   "execution_count": null,
   "id": "e5774696-384b-417a-8344-c6612f2b6ec3",
   "metadata": {},
   "outputs": [],
   "source": [
    "data['reward']"
   ]
  },
  {
   "cell_type": "code",
   "execution_count": null,
   "id": "20709afc-9d85-48e7-a975-27fc2d938330",
   "metadata": {},
   "outputs": [],
   "source": [
    "# TODO: Random Key should be change iterativeley\n",
    "state"
   ]
  },
  {
   "cell_type": "code",
   "execution_count": null,
   "id": "2add70d7-3b33-4916-8268-0bf263c755ed",
   "metadata": {},
   "outputs": [],
   "source": []
  }
 ],
 "metadata": {
  "kernelspec": {
   "display_name": "Python 3",
   "language": "python",
   "name": "python3"
  },
  "language_info": {
   "codemirror_mode": {
    "name": "ipython",
    "version": 3
   },
   "file_extension": ".py",
   "mimetype": "text/x-python",
   "name": "python",
   "nbconvert_exporter": "python",
   "pygments_lexer": "ipython3",
   "version": "3.8.10"
  }
 },
 "nbformat": 4,
 "nbformat_minor": 5
}
